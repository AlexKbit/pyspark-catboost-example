{
  "nbformat": 4,
  "nbformat_minor": 0,
  "metadata": {
    "colab": {
      "name": "PySparkWithCatBoost.ipynb",
      "provenance": [],
      "collapsed_sections": []
    },
    "kernelspec": {
      "name": "python3",
      "display_name": "Python 3"
    }
  },
  "cells": [
    {
      "cell_type": "markdown",
      "metadata": {
        "id": "5EVXgzsb7Jq8"
      },
      "source": [
        "### Environment config"
      ]
    },
    {
      "cell_type": "code",
      "metadata": {
        "id": "ltj4TU2N4D6S",
        "colab": {
          "base_uri": "https://localhost:8080/"
        },
        "outputId": "69d55d75-42ce-4a9b-9b9c-7a3f9205ede7"
      },
      "source": [
        "#CoLab Only\n",
        "!apt-get install openjdk-8-jdk-headless -qq > /dev/null\n",
        "!wget -q https://downloads.apache.org/spark/spark-3.0.3/spark-3.0.3-bin-hadoop2.7.tgz\n",
        "!tar xf spark-3.0.3-bin-hadoop2.7.tgz\n",
        "!pip install -q findspark==1.4.2 catboost==1.0.3"
      ],
      "execution_count": 1,
      "outputs": [
        {
          "output_type": "stream",
          "name": "stdout",
          "text": [
            "\u001b[K     |████████████████████████████████| 76.3 MB 1.3 MB/s \n",
            "\u001b[?25h"
          ]
        }
      ]
    },
    {
      "cell_type": "code",
      "metadata": {
        "id": "hJxUJQz04wEN"
      },
      "source": [
        "#CoLab Only\n",
        "import os\n",
        "os.environ[\"JAVA_HOME\"] = \"/usr/lib/jvm/java-8-openjdk-amd64\"\n",
        "os.environ[\"SPARK_HOME\"] = \"/content/spark-3.0.3-bin-hadoop2.7\"\n",
        "import findspark\n",
        "findspark.init()"
      ],
      "execution_count": 2,
      "outputs": []
    },
    {
      "cell_type": "code",
      "metadata": {
        "id": "ANe3zQOXsHeg"
      },
      "source": [
        "from pyspark.ml import Pipeline\n",
        "from pyspark.ml.feature import VectorAssembler, StringIndexer\n",
        "from pyspark.ml.evaluation import MulticlassClassificationEvaluator\n",
        "from pyspark.sql import SparkSession\n",
        "from pyspark.sql import DataFrame\n",
        "from pyspark.sql.functions import col\n",
        "from pyspark.sql.types import StructField, StructType"
      ],
      "execution_count": 3,
      "outputs": []
    },
    {
      "cell_type": "markdown",
      "metadata": {
        "id": "SvQeWku6HTbJ"
      },
      "source": [
        "<a href='https://catboost.ai/en/docs/concepts/spark-cluster-configuration'>Catboost Spark Cluster config</a>"
      ]
    },
    {
      "cell_type": "code",
      "metadata": {
        "id": "XwLemIk13_Lj"
      },
      "source": [
        "spark = SparkSession.builder\\\n",
        "    .master('local[*]')\\\n",
        "    .appName('CatBoostWithSpark')\\\n",
        "    .config(\"spark.jars.packages\", \"ai.catboost:catboost-spark_3.0_2.12:1.0.3\")\\\n",
        "    .config(\"spark.executor.cores\", \"2\")\\\n",
        "    .config(\"spark.task.cpus\", \"2\")\\\n",
        "    .config(\"spark.driver.memory\", \"2g\")\\\n",
        "    .config(\"spark.driver.memoryOverhead\", \"2g\")\\\n",
        "    .config(\"spark.executor.memory\", \"2g\")\\\n",
        "    .config(\"spark.executor.memoryOverhead\", \"2g\")\\\n",
        "    .getOrCreate()"
      ],
      "execution_count": 4,
      "outputs": []
    },
    {
      "cell_type": "code",
      "metadata": {
        "id": "qDSHTzrn4m6e",
        "colab": {
          "base_uri": "https://localhost:8080/",
          "height": 219
        },
        "outputId": "b1ddbd34-7cfd-4ef7-a4dd-9920b71a526d"
      },
      "source": [
        "spark"
      ],
      "execution_count": 5,
      "outputs": [
        {
          "output_type": "execute_result",
          "data": {
            "text/html": [
              "\n",
              "            <div>\n",
              "                <p><b>SparkSession - in-memory</b></p>\n",
              "                \n",
              "        <div>\n",
              "            <p><b>SparkContext</b></p>\n",
              "\n",
              "            <p><a href=\"http://bca3f0bb04d0:4040\">Spark UI</a></p>\n",
              "\n",
              "            <dl>\n",
              "              <dt>Version</dt>\n",
              "                <dd><code>v3.0.3</code></dd>\n",
              "              <dt>Master</dt>\n",
              "                <dd><code>local[*]</code></dd>\n",
              "              <dt>AppName</dt>\n",
              "                <dd><code>CatBoostWithSpark</code></dd>\n",
              "            </dl>\n",
              "        </div>\n",
              "        \n",
              "            </div>\n",
              "        "
            ],
            "text/plain": [
              "<pyspark.sql.session.SparkSession at 0x7f4bee4f7190>"
            ]
          },
          "metadata": {},
          "execution_count": 5
        }
      ]
    },
    {
      "cell_type": "markdown",
      "metadata": {
        "id": "04K22P97A3I-"
      },
      "source": [
        "Docs <a href='https://catboost.ai/docs/catboost-spark/3.0_2.12/latest/api/python/'>catboost-spark</a>"
      ]
    },
    {
      "cell_type": "code",
      "metadata": {
        "id": "ZOIdAn0unfTg"
      },
      "source": [
        "import catboost_spark"
      ],
      "execution_count": 6,
      "outputs": []
    },
    {
      "cell_type": "markdown",
      "metadata": {
        "id": "HV7Tbw_57yHl"
      },
      "source": [
        "### Prepare DataSet\n",
        "\n",
        "Download driver-stat.parquet"
      ]
    },
    {
      "cell_type": "code",
      "metadata": {
        "id": "0S19YvcqFKUh"
      },
      "source": [
        "!wget -q https://github.com/AlexKbit/pyspark-catboost-example/raw/main/driver-stat.parquet"
      ],
      "execution_count": 7,
      "outputs": []
    },
    {
      "cell_type": "code",
      "metadata": {
        "id": "iAMh9L66s-pq"
      },
      "source": [
        "df = spark.read.parquet('driver-stat.parquet')"
      ],
      "execution_count": 8,
      "outputs": []
    },
    {
      "cell_type": "code",
      "metadata": {
        "id": "y6xu_andHkHE",
        "colab": {
          "base_uri": "https://localhost:8080/"
        },
        "outputId": "3ebde3e0-0e50-4a0a-b9a4-cc1a3418703c"
      },
      "source": [
        "df.describe().show()"
      ],
      "execution_count": 9,
      "outputs": [
        {
          "output_type": "stream",
          "name": "stdout",
          "text": [
            "+-------+--------------------+------------------+------+---------+------------------+------------------+------------------+------------------+-------------------+\n",
            "|summary|           driver_id|               age|   sex|car_class|driving_experience|speeding_penalties| parking_penalties|total_car_accident|   has_car_accident|\n",
            "+-------+--------------------+------------------+------+---------+------------------+------------------+------------------+------------------+-------------------+\n",
            "|  count|              231000|            231000|231000|   231000|            231000|            231000|            231000|            231000|             231000|\n",
            "|   mean|            Infinity| 36.98296536796537|  null|     null|10.591186147186146|  7.56551948051948|2.1913549783549784|0.6427619047619048|  0.577922077922078|\n",
            "| stddev|                 NaN|15.520878392934657|  null|     null| 8.797198158271309| 6.378106846000693|2.3833479092331666|0.8109388912838871|0.49389189681841367|\n",
            "|    min|00002225cb8a44ebb...|                18|female|        B|                 0|                 0|                 0|                 0|                  0|\n",
            "|    max|ffff9d101e324a439...|                69|  male|        S|                29|                19|                 7|                 4|                  1|\n",
            "+-------+--------------------+------------------+------+---------+------------------+------------------+------------------+------------------+-------------------+\n",
            "\n"
          ]
        }
      ]
    },
    {
      "cell_type": "code",
      "metadata": {
        "id": "4PnFpw5m0eM4",
        "colab": {
          "base_uri": "https://localhost:8080/"
        },
        "outputId": "efab6903-27c4-40f8-95ce-cd67849bb008"
      },
      "source": [
        "df.show()"
      ],
      "execution_count": 10,
      "outputs": [
        {
          "output_type": "stream",
          "name": "stdout",
          "text": [
            "+--------------------+---+------+---------+------------------+------------------+-----------------+------------------+----------------+\n",
            "|           driver_id|age|   sex|car_class|driving_experience|speeding_penalties|parking_penalties|total_car_accident|has_car_accident|\n",
            "+--------------------+---+------+---------+------------------+------------------+-----------------+------------------+----------------+\n",
            "|ab3e7f31ace042fd8...| 29|  male|        B|                 2|                 0|                0|                 0|               0|\n",
            "|3be9de3ea32045888...| 25|female|        B|                 1|                 2|                0|                 0|               0|\n",
            "|4b520b87244c4e8db...| 24|female|        D|                 2|                 1|                0|                 0|               0|\n",
            "|643b83b2860349e28...| 22|  male|        B|                 1|                 2|                0|                 0|               0|\n",
            "|ec08a7f8c2ce4940b...| 20|female|        C|                 2|                 0|                0|                 0|               0|\n",
            "|adc17347ffe34aa8a...| 18|female|        E|                 0|                 2|                0|                 0|               0|\n",
            "|cced59fceca940949...| 28|  male|        D|                 2|                 0|                0|                 0|               0|\n",
            "|c9ea1cc670c14ab9a...| 21|female|        B|                 1|                 1|                0|                 0|               0|\n",
            "|cd6603547e234695a...| 29|  male|        C|                 0|                 0|                0|                 0|               0|\n",
            "|e420f758241147dfa...| 22|female|        B|                 2|                 2|                0|                 0|               0|\n",
            "|21b0c8721f224225b...| 18|female|        D|                 1|                 0|                0|                 0|               0|\n",
            "|cb28f989ca74473da...| 22|female|        B|                 0|                 2|                0|                 0|               0|\n",
            "|8a6d426533164deeb...| 19|  male|        C|                 0|                 0|                0|                 0|               0|\n",
            "|74db78a5a8554961b...| 28|  male|        C|                 2|                 0|                0|                 0|               0|\n",
            "|3b4587d9caa744cea...| 22|female|        C|                 2|                 2|                0|                 0|               0|\n",
            "|ac5ae83b73ed45279...| 29|  male|        B|                 1|                 1|                0|                 0|               0|\n",
            "|a0c2dfef50c346769...| 18|female|        C|                 2|                 1|                0|                 0|               0|\n",
            "|e8e4ad54a00645f58...| 27|female|        E|                 0|                 0|                0|                 0|               0|\n",
            "|f3b9de8300184e98a...| 19|  male|        B|                 2|                 2|                0|                 0|               0|\n",
            "|74a55bb2cf2746859...| 21|  male|        B|                 1|                 2|                0|                 0|               0|\n",
            "+--------------------+---+------+---------+------------------+------------------+-----------------+------------------+----------------+\n",
            "only showing top 20 rows\n",
            "\n"
          ]
        }
      ]
    },
    {
      "cell_type": "code",
      "metadata": {
        "id": "clV5OmAs0gas"
      },
      "source": [
        "TARGET_LABEL = 'has_car_accident'"
      ],
      "execution_count": 11,
      "outputs": []
    },
    {
      "cell_type": "code",
      "metadata": {
        "id": "kW55WZAyByiu"
      },
      "source": [
        "evaluator = MulticlassClassificationEvaluator(\n",
        "    labelCol=TARGET_LABEL, \n",
        "    predictionCol=\"prediction\", \n",
        "    metricName='f1')"
      ],
      "execution_count": 12,
      "outputs": []
    },
    {
      "cell_type": "code",
      "metadata": {
        "id": "QENxHiQLytDq"
      },
      "source": [
        "train_df, test_df = df.randomSplit([0.75, 0.25])"
      ],
      "execution_count": 13,
      "outputs": []
    },
    {
      "cell_type": "markdown",
      "metadata": {
        "id": "CLTQzThy4rTV"
      },
      "source": [
        "### Train CatBoost with Pool"
      ]
    },
    {
      "cell_type": "code",
      "metadata": {
        "id": "3Ui5XKba53yh"
      },
      "source": [
        "sex_indexer = StringIndexer(inputCol='sex', \n",
        "                            outputCol=\"sex_index\")\n",
        "car_class_indexer = StringIndexer(inputCol='car_class',\n",
        "                                  outputCol=\"car_class_index\")\n",
        "features = [\"age\", \"sex_index\", \"car_class_index\", \"driving_experience\", \n",
        "            \"speeding_penalties\", \"parking_penalties\", \"total_car_accident\"]\n",
        "assembler = VectorAssembler(inputCols=features, outputCol='features')"
      ],
      "execution_count": 14,
      "outputs": []
    },
    {
      "cell_type": "code",
      "metadata": {
        "id": "LMS19FQA550G"
      },
      "source": [
        "def prepare_vector(df: DataFrame)-> DataFrame:\n",
        "  result_df = sex_indexer.fit(df).transform(df)\n",
        "  result_df = car_class_indexer.fit(result_df).transform(result_df)\n",
        "  result_df = assembler.transform(result_df)\n",
        "  return result_df"
      ],
      "execution_count": 15,
      "outputs": []
    },
    {
      "cell_type": "code",
      "metadata": {
        "id": "81E3hIMEWPvn"
      },
      "source": [
        "train = prepare_vector(train_df)\n",
        "test = prepare_vector(test_df)"
      ],
      "execution_count": 16,
      "outputs": []
    },
    {
      "cell_type": "code",
      "metadata": {
        "colab": {
          "base_uri": "https://localhost:8080/"
        },
        "id": "xQgUMWdy81n3",
        "outputId": "43fa977d-ee11-4f79-d1fd-c0dae12b43c8"
      },
      "source": [
        "train.show()"
      ],
      "execution_count": 17,
      "outputs": [
        {
          "output_type": "stream",
          "name": "stdout",
          "text": [
            "+--------------------+---+------+---------+------------------+------------------+-----------------+------------------+----------------+---------+---------------+--------------------+\n",
            "|           driver_id|age|   sex|car_class|driving_experience|speeding_penalties|parking_penalties|total_car_accident|has_car_accident|sex_index|car_class_index|            features|\n",
            "+--------------------+---+------+---------+------------------+------------------+-----------------+------------------+----------------+---------+---------------+--------------------+\n",
            "|0000d27b07fa4cdfb...| 24|  male|        B|                 0|                12|                2|                 0|               1|      1.0|            0.0|[24.0,1.0,0.0,0.0...|\n",
            "|0001d55d2f5f45239...| 37|female|        B|                12|                16|                7|                 1|               1|      0.0|            0.0|[37.0,0.0,0.0,12....|\n",
            "|0002088ad95349a4b...| 60|  male|        D|                23|                 2|                0|                 1|               0|      1.0|            2.0|[60.0,1.0,2.0,23....|\n",
            "|0002bb0c520b4145b...| 20|  male|        D|                 9|                13|                4|                 1|               1|      1.0|            2.0|[20.0,1.0,2.0,9.0...|\n",
            "|000301e72efb4870a...| 18|female|        C|                 2|                 0|                0|                 1|               1|      0.0|            1.0|[18.0,0.0,1.0,2.0...|\n",
            "|0003799e6ea445678...| 65|female|        D|                27|                11|                4|                 1|               1|      0.0|            2.0|[65.0,0.0,2.0,27....|\n",
            "|0003a920a2f74627a...| 52|female|        S|                14|                 2|                0|                 0|               1|      0.0|            4.0|[52.0,0.0,4.0,14....|\n",
            "|0003b896653641f99...| 22|  male|        C|                 6|                19|                7|                 1|               1|      1.0|            1.0|[22.0,1.0,1.0,6.0...|\n",
            "|0003eed660c94e8fb...| 63|female|        E|                22|                 1|                0|                 1|               0|      0.0|            3.0|[63.0,0.0,3.0,22....|\n",
            "|0004164f51964c3a9...| 22|female|        C|                 4|                 9|                1|                 0|               0|      0.0|            1.0|[22.0,0.0,1.0,4.0...|\n",
            "|00041ba35c914e5ea...| 63|  male|        B|                20|                 0|                0|                 1|               0|      1.0|            0.0|[63.0,1.0,0.0,20....|\n",
            "|00042cb57b714cd78...| 19|female|        B|                 1|                 0|                0|                 1|               1|      0.0|            0.0|(7,[0,3,6],[19.0,...|\n",
            "|00043a1d06fe42cb8...| 21|female|        B|                 0|                 1|                0|                 0|               0|      0.0|            0.0|(7,[0,4],[21.0,1.0])|\n",
            "|000496b046ce40858...| 18|  male|        E|                 5|                 8|                0|                 0|               0|      1.0|            3.0|[18.0,1.0,3.0,5.0...|\n",
            "|0004cdbb66504eeeb...| 20|female|        B|                 5|                 5|                2|                 0|               0|      0.0|            0.0|[20.0,0.0,0.0,5.0...|\n",
            "|0004df0fc35c4596b...| 50|  male|        C|                18|                14|                6|                 1|               1|      1.0|            1.0|[50.0,1.0,1.0,18....|\n",
            "|0004feec9fcb4c9da...| 20|female|        B|                 4|                 3|                2|                 0|               0|      0.0|            0.0|[20.0,0.0,0.0,4.0...|\n",
            "|0005ac3980b548f48...| 40|female|        E|                13|                14|                4|                 1|               1|      0.0|            3.0|[40.0,0.0,3.0,13....|\n",
            "|000629fa643c4ef4a...| 26|female|        C|                 6|                 5|                2|                 0|               0|      0.0|            1.0|[26.0,0.0,1.0,6.0...|\n",
            "|00065d3802984a83b...| 55|  male|        B|                23|                19|                5|                 1|               1|      1.0|            0.0|[55.0,1.0,0.0,23....|\n",
            "+--------------------+---+------+---------+------------------+------------------+-----------------+------------------+----------------+---------+---------------+--------------------+\n",
            "only showing top 20 rows\n",
            "\n"
          ]
        }
      ]
    },
    {
      "cell_type": "code",
      "metadata": {
        "colab": {
          "base_uri": "https://localhost:8080/"
        },
        "id": "lRHOBXQK4s3Z",
        "outputId": "e10bfd5c-208b-4015-c01e-76dc5854e34e"
      },
      "source": [
        "train_pool = catboost_spark.Pool(train.select(['features', TARGET_LABEL]))\n",
        "train_pool.setLabelCol(TARGET_LABEL)\n",
        "train_pool.setFeaturesCol('features')"
      ],
      "execution_count": 18,
      "outputs": [
        {
          "output_type": "execute_result",
          "data": {
            "text/plain": [
              "Pool_3a4405d50094"
            ]
          },
          "metadata": {},
          "execution_count": 18
        }
      ]
    },
    {
      "cell_type": "code",
      "metadata": {
        "id": "UxpmZPro-13y",
        "colab": {
          "base_uri": "https://localhost:8080/"
        },
        "outputId": "98d87d4d-9614-4f5d-eab6-031218b48148"
      },
      "source": [
        "classifier = catboost_spark.CatBoostClassifier(featuresCol='features', labelCol=TARGET_LABEL)\n",
        "classifier.setIterations(50)\n",
        "classifier.setDepth(5)"
      ],
      "execution_count": 19,
      "outputs": [
        {
          "output_type": "execute_result",
          "data": {
            "text/plain": [
              "CatBoostClassifier_b1f939ae1ad6"
            ]
          },
          "metadata": {},
          "execution_count": 19
        }
      ]
    },
    {
      "cell_type": "code",
      "metadata": {
        "colab": {
          "base_uri": "https://localhost:8080/"
        },
        "id": "36zz5UA4CF5-",
        "outputId": "7a63277a-d735-4ee2-f7c2-d72597f26270"
      },
      "source": [
        "model = classifier.fit(train_pool)\n",
        "predict = model.transform(test)\n",
        "print(f'Model F1 = {evaluator.evaluate(predict)}')"
      ],
      "execution_count": 20,
      "outputs": [
        {
          "output_type": "stream",
          "name": "stdout",
          "text": [
            "Model F1 = 0.9065764528064353\n"
          ]
        }
      ]
    },
    {
      "cell_type": "code",
      "metadata": {
        "colab": {
          "base_uri": "https://localhost:8080/"
        },
        "id": "GgnSlwln917g",
        "outputId": "3bea9e78-1dde-4f68-de75-2996e5bfd830"
      },
      "source": [
        "predict.show()"
      ],
      "execution_count": 21,
      "outputs": [
        {
          "output_type": "stream",
          "name": "stdout",
          "text": [
            "+--------------------+---+------+---------+------------------+------------------+-----------------+------------------+----------------+---------+---------------+--------------------+--------------------+--------------------+----------+\n",
            "|           driver_id|age|   sex|car_class|driving_experience|speeding_penalties|parking_penalties|total_car_accident|has_car_accident|sex_index|car_class_index|            features|       rawPrediction|         probability|prediction|\n",
            "+--------------------+---+------+---------+------------------+------------------+-----------------+------------------+----------------+---------+---------------+--------------------+--------------------+--------------------+----------+\n",
            "|00002225cb8a44ebb...| 31|  male|        S|                15|                 2|                0|                 0|               0|      1.0|            4.0|[31.0,1.0,4.0,15....|[1.15140076465038...|[0.90910879480527...|       0.0|\n",
            "|0000c3a3477346d09...| 23|female|        B|                 5|                15|                3|                 1|               0|      0.0|            0.0|[23.0,0.0,0.0,5.0...|[-1.1563539772915...|[0.09007594807889...|       1.0|\n",
            "|0002932e07054b12b...| 29|female|        C|                 6|                 6|                2|                 0|               0|      0.0|            1.0|[29.0,0.0,1.0,6.0...|[1.10503860207854...|[0.90115080422922...|       0.0|\n",
            "|0002e524012748159...| 29|female|        C|                 6|                15|                5|                 1|               1|      0.0|            1.0|[29.0,0.0,1.0,6.0...|[-1.1967397297400...|[0.08367127364100...|       1.0|\n",
            "|00032b6458bc42b3b...| 23|  male|        D|                 2|                 0|                0|                 1|               1|      1.0|            2.0|[23.0,1.0,2.0,2.0...|[-1.1217228235309...|[0.09591633133722...|       1.0|\n",
            "|0003fa73b9074d1ab...| 25|female|        D|                 6|                 0|                2|                 0|               0|      0.0|            2.0|[25.0,0.0,2.0,6.0...|[1.13256955496212...|[0.90594842786023...|       0.0|\n",
            "|00046f01fecb4fbf9...| 59|female|        C|                21|                15|                2|                 1|               0|      0.0|            1.0|[59.0,0.0,1.0,21....|[-1.1258325295010...|[0.09520593706969...|       1.0|\n",
            "|000505901f1d464ba...| 27|  male|        B|                 4|                 6|                2|                 0|               0|      1.0|            0.0|[27.0,1.0,0.0,4.0...|[1.16142123936419...|[0.91075125693387...|       0.0|\n",
            "|00053e7533ee4b559...| 20|female|        C|                 1|                 1|                0|                 0|               0|      0.0|            1.0|[20.0,0.0,1.0,1.0...|[1.16929265139529...|[0.91202263976840...|       0.0|\n",
            "|000606be92f642fe8...| 29|  male|        C|                 0|                 2|                0|                 0|               1|      1.0|            1.0|[29.0,1.0,1.0,0.0...|[1.10318730412081...|[0.90082049403864...|       0.0|\n",
            "|00078e1bb99d49619...| 18|female|        E|                 2|                 1|                0|                 1|               1|      0.0|            3.0|[18.0,0.0,3.0,2.0...|[-1.1056527319277...|[0.09873983870960...|       1.0|\n",
            "|00098cfe9cca436e8...| 56|  male|        B|                27|                 6|                7|                 1|               1|      1.0|            0.0|[56.0,1.0,0.0,27....|[-1.1170832005058...|[0.09672401673986...|       1.0|\n",
            "|000b617a21d040dd9...| 21|female|        C|                 0|                 9|                2|                 0|               1|      0.0|            1.0|[21.0,0.0,1.0,0.0...|[-1.0415315342856...|[0.11075393287288...|       1.0|\n",
            "|000da00e13784d059...| 23|  male|        B|                 0|                 1|                0|                 1|               1|      1.0|            0.0|[23.0,1.0,0.0,0.0...|[-1.1406491379776...|[0.09268371886804...|       1.0|\n",
            "|000e1908f932432cb...| 61|  male|        C|                20|                 5|                2|                 1|               1|      1.0|            1.0|[61.0,1.0,1.0,20....|[-0.9881187482339...|[0.12172049474348...|       1.0|\n",
            "|000e46ed2fa04e6ea...| 29|female|        B|                 0|                 2|                0|                 0|               1|      0.0|            0.0|(7,[0,4],[29.0,2.0])|[1.10468345673551...|[0.90108751490196...|       0.0|\n",
            "|001016080277495ab...| 24|female|        C|                 1|                 1|                0|                 0|               0|      0.0|            1.0|[24.0,0.0,1.0,1.0...|[1.19170144815186...|[0.91555290417846...|       0.0|\n",
            "|0010dd6ad7e44eb58...| 33|female|        B|                14|                 5|                2|                 0|               1|      0.0|            0.0|[33.0,0.0,0.0,14....|[1.21570705379369...|[0.91919163268214...|       0.0|\n",
            "|001239b138514d69b...| 59|female|        C|                29|                17|                4|                 1|               1|      0.0|            1.0|[59.0,0.0,1.0,29....|[-1.1948624759513...|[0.08395958352845...|       1.0|\n",
            "|00132e22b56e43caa...| 62|  male|        C|                28|                 9|                5|                 1|               1|      1.0|            1.0|[62.0,1.0,1.0,28....|[-1.0984257560031...|[0.10003358089045...|       1.0|\n",
            "+--------------------+---+------+---------+------------------+------------------+-----------------+------------------+----------------+---------+---------------+--------------------+--------------------+--------------------+----------+\n",
            "only showing top 20 rows\n",
            "\n"
          ]
        }
      ]
    },
    {
      "cell_type": "code",
      "metadata": {
        "id": "gJSfXtMdMa4X"
      },
      "source": [
        "model.saveNativeModel('catboost_native')"
      ],
      "execution_count": 22,
      "outputs": []
    },
    {
      "cell_type": "code",
      "metadata": {
        "id": "7O2WBxMKNPNf"
      },
      "source": [
        "model.write().overwrite().save('catboost_spark')"
      ],
      "execution_count": 23,
      "outputs": []
    },
    {
      "cell_type": "markdown",
      "metadata": {
        "id": "x-toLh_6DtL5"
      },
      "source": [
        "### Create META data for features"
      ]
    },
    {
      "cell_type": "code",
      "metadata": {
        "id": "Idmz95Yk7a3-"
      },
      "source": [
        "def create_metadata(features, categ_nums):\n",
        "      numericAttrs = []\n",
        "      nominalAttrs = []\n",
        "      for i, feature_name in enumerate(features):\n",
        "        if feature_name in categ_nums:\n",
        "            nominalAttrs.append({\"num_vals\": categ_nums[feature_name], \"idx\": i, \"name\": feature_name})\n",
        "        else:\n",
        "            numericAttrs.append({\"idx\": i, \"name\": feature_name})\n",
        "\n",
        "      attrs = {}\n",
        "      if numericAttrs:\n",
        "          attrs[\"numeric\"] = numericAttrs\n",
        "      if nominalAttrs:\n",
        "          attrs[\"nominal\"] = nominalAttrs\n",
        "\n",
        "      return {\"ml_attr\": {\"attrs\": attrs, \"num_attrs\": len(features)}}"
      ],
      "execution_count": 24,
      "outputs": []
    },
    {
      "cell_type": "code",
      "metadata": {
        "colab": {
          "base_uri": "https://localhost:8080/"
        },
        "id": "zXrRw6ZBVCyR",
        "outputId": "7045fded-e7e0-4ccb-d799-ab63740b2920"
      },
      "source": [
        "feature_metadata = create_metadata(features, {'sex_index': 2, 'car_class_index': 5})\n",
        "feature_metadata"
      ],
      "execution_count": 25,
      "outputs": [
        {
          "output_type": "execute_result",
          "data": {
            "text/plain": [
              "{'ml_attr': {'attrs': {'nominal': [{'idx': 1,\n",
              "     'name': 'sex_index',\n",
              "     'num_vals': 2},\n",
              "    {'idx': 2, 'name': 'car_class_index', 'num_vals': 5}],\n",
              "   'numeric': [{'idx': 0, 'name': 'age'},\n",
              "    {'idx': 3, 'name': 'driving_experience'},\n",
              "    {'idx': 4, 'name': 'speeding_penalties'},\n",
              "    {'idx': 5, 'name': 'parking_penalties'},\n",
              "    {'idx': 6, 'name': 'total_car_accident'}]},\n",
              "  'num_attrs': 7}}"
            ]
          },
          "metadata": {},
          "execution_count": 25
        }
      ]
    },
    {
      "cell_type": "markdown",
      "metadata": {
        "id": "bIWah2xsb5Om"
      },
      "source": [
        "### Train with META about categorical features"
      ]
    },
    {
      "cell_type": "code",
      "metadata": {
        "id": "AXljdrUtb2xA"
      },
      "source": [
        "train_meta = train.withColumn(\"features_with_meta\", col(\"features\").alias(\"\", metadata=feature_metadata))\n",
        "test_meta = test.withColumn(\"features_with_meta\", col(\"features\").alias(\"\", metadata=feature_metadata))"
      ],
      "execution_count": 26,
      "outputs": []
    },
    {
      "cell_type": "code",
      "metadata": {
        "colab": {
          "base_uri": "https://localhost:8080/"
        },
        "id": "JBBYk4g2_WAK",
        "outputId": "c4187a08-c310-4fda-fdbd-39178c640c9b"
      },
      "source": [
        "train_meta.schema.fields"
      ],
      "execution_count": 27,
      "outputs": [
        {
          "output_type": "execute_result",
          "data": {
            "text/plain": [
              "[StructField(driver_id,StringType,true),\n",
              " StructField(age,IntegerType,true),\n",
              " StructField(sex,StringType,true),\n",
              " StructField(car_class,StringType,true),\n",
              " StructField(driving_experience,IntegerType,true),\n",
              " StructField(speeding_penalties,IntegerType,true),\n",
              " StructField(parking_penalties,IntegerType,true),\n",
              " StructField(total_car_accident,IntegerType,true),\n",
              " StructField(has_car_accident,IntegerType,true),\n",
              " StructField(sex_index,DoubleType,false),\n",
              " StructField(car_class_index,DoubleType,false),\n",
              " StructField(features,VectorUDT,true),\n",
              " StructField(features_with_meta,VectorUDT,true)]"
            ]
          },
          "metadata": {},
          "execution_count": 27
        }
      ]
    },
    {
      "cell_type": "code",
      "metadata": {
        "colab": {
          "base_uri": "https://localhost:8080/"
        },
        "id": "kGwvTz96dUvV",
        "outputId": "ba77effb-41f2-4aee-afd3-4b10765238d3"
      },
      "source": [
        "train_meta.schema.fields[-1].metadata"
      ],
      "execution_count": 28,
      "outputs": [
        {
          "output_type": "execute_result",
          "data": {
            "text/plain": [
              "{'ml_attr': {'attrs': {'nominal': [{'idx': 1,\n",
              "     'name': 'sex_index',\n",
              "     'num_vals': 2},\n",
              "    {'idx': 2, 'name': 'car_class_index', 'num_vals': 5}],\n",
              "   'numeric': [{'idx': 0, 'name': 'age'},\n",
              "    {'idx': 3, 'name': 'driving_experience'},\n",
              "    {'idx': 4, 'name': 'speeding_penalties'},\n",
              "    {'idx': 5, 'name': 'parking_penalties'},\n",
              "    {'idx': 6, 'name': 'total_car_accident'}]},\n",
              "  'num_attrs': 7}}"
            ]
          },
          "metadata": {},
          "execution_count": 28
        }
      ]
    },
    {
      "cell_type": "code",
      "metadata": {
        "id": "iMz3uwafcpXd",
        "colab": {
          "base_uri": "https://localhost:8080/"
        },
        "outputId": "4afb1b12-1021-4829-fe6b-723a5715c666"
      },
      "source": [
        "classifier = catboost_spark.CatBoostClassifier(featuresCol='features_with_meta', labelCol=TARGET_LABEL)\n",
        "classifier.setIterations(50)\n",
        "classifier.setDepth(5)"
      ],
      "execution_count": 29,
      "outputs": [
        {
          "output_type": "execute_result",
          "data": {
            "text/plain": [
              "CatBoostClassifier_880c96b1da1a"
            ]
          },
          "metadata": {},
          "execution_count": 29
        }
      ]
    },
    {
      "cell_type": "code",
      "metadata": {
        "colab": {
          "base_uri": "https://localhost:8080/"
        },
        "id": "MaFon_KScqwk",
        "outputId": "e1af6545-4594-4281-a3b6-8c84fe31c672"
      },
      "source": [
        "model = classifier.fit(train_meta)\n",
        "predict = model.transform(test_meta)\n",
        "print(f'Model F1 = {evaluator.evaluate(predict)}')"
      ],
      "execution_count": 30,
      "outputs": [
        {
          "output_type": "stream",
          "name": "stdout",
          "text": [
            "Model F1 = 0.9065764528064353\n"
          ]
        }
      ]
    },
    {
      "cell_type": "markdown",
      "metadata": {
        "id": "mFYPn1ZUCXhN"
      },
      "source": [
        "### Pipeline model with CatBoost\n",
        "<a href='https://catboost.ai/docs/catboost-spark/3.0_2.12/latest/api/python/api/catboost_spark.CatBoostClassifier.html?highlight=catboostclassifier#catboostclassifier'>CatBoostClassifier</a>"
      ]
    },
    {
      "cell_type": "code",
      "metadata": {
        "id": "YBjOYynf0CJu"
      },
      "source": [
        "sex_indexer = StringIndexer(inputCol='sex', \n",
        "                            outputCol=\"sex_index\")\n",
        "car_class_indexer = StringIndexer(inputCol='car_class',\n",
        "                                  outputCol=\"car_class_index\")\n",
        "features = [\"age\", \"sex_index\", \"car_class_index\", \"driving_experience\", \n",
        "            \"speeding_penalties\", \"parking_penalties\", \"total_car_accident\"]\n",
        "assembler = VectorAssembler(inputCols=features, outputCol='features')"
      ],
      "execution_count": 31,
      "outputs": []
    },
    {
      "cell_type": "code",
      "metadata": {
        "id": "ygQghq_uDQkz",
        "colab": {
          "base_uri": "https://localhost:8080/"
        },
        "outputId": "ac5ec207-0e1d-4230-81eb-5edb76b9a158"
      },
      "source": [
        "classifier = catboost_spark.CatBoostClassifier(featuresCol='features', labelCol=TARGET_LABEL)\n",
        "classifier.setIterations(50)\n",
        "classifier.setDepth(5)"
      ],
      "execution_count": 32,
      "outputs": [
        {
          "output_type": "execute_result",
          "data": {
            "text/plain": [
              "CatBoostClassifier_3cba290f028e"
            ]
          },
          "metadata": {},
          "execution_count": 32
        }
      ]
    },
    {
      "cell_type": "code",
      "metadata": {
        "id": "XUesls23DSE9"
      },
      "source": [
        "pipeline = Pipeline(stages=[sex_indexer, car_class_indexer, assembler, classifier])"
      ],
      "execution_count": 33,
      "outputs": []
    },
    {
      "cell_type": "code",
      "metadata": {
        "id": "5oVuVwHrsjSH"
      },
      "source": [
        "p_model = pipeline.fit(train_df)"
      ],
      "execution_count": 34,
      "outputs": []
    },
    {
      "cell_type": "code",
      "metadata": {
        "colab": {
          "base_uri": "https://localhost:8080/"
        },
        "id": "XBP64pQxAh1P",
        "outputId": "fd0e1dc1-41db-4457-924e-65b692cac2d8"
      },
      "source": [
        "test_df.show()"
      ],
      "execution_count": 35,
      "outputs": [
        {
          "output_type": "stream",
          "name": "stdout",
          "text": [
            "+--------------------+---+------+---------+------------------+------------------+-----------------+------------------+----------------+\n",
            "|           driver_id|age|   sex|car_class|driving_experience|speeding_penalties|parking_penalties|total_car_accident|has_car_accident|\n",
            "+--------------------+---+------+---------+------------------+------------------+-----------------+------------------+----------------+\n",
            "|00002225cb8a44ebb...| 31|  male|        S|                15|                 2|                0|                 0|               0|\n",
            "|0000c3a3477346d09...| 23|female|        B|                 5|                15|                3|                 1|               0|\n",
            "|0002932e07054b12b...| 29|female|        C|                 6|                 6|                2|                 0|               0|\n",
            "|0002e524012748159...| 29|female|        C|                 6|                15|                5|                 1|               1|\n",
            "|00032b6458bc42b3b...| 23|  male|        D|                 2|                 0|                0|                 1|               1|\n",
            "|0003fa73b9074d1ab...| 25|female|        D|                 6|                 0|                2|                 0|               0|\n",
            "|00046f01fecb4fbf9...| 59|female|        C|                21|                15|                2|                 1|               0|\n",
            "|000505901f1d464ba...| 27|  male|        B|                 4|                 6|                2|                 0|               0|\n",
            "|00053e7533ee4b559...| 20|female|        C|                 1|                 1|                0|                 0|               0|\n",
            "|000606be92f642fe8...| 29|  male|        C|                 0|                 2|                0|                 0|               1|\n",
            "|00078e1bb99d49619...| 18|female|        E|                 2|                 1|                0|                 1|               1|\n",
            "|00098cfe9cca436e8...| 56|  male|        B|                27|                 6|                7|                 1|               1|\n",
            "|000b617a21d040dd9...| 21|female|        C|                 0|                 9|                2|                 0|               1|\n",
            "|000da00e13784d059...| 23|  male|        B|                 0|                 1|                0|                 1|               1|\n",
            "|000e1908f932432cb...| 61|  male|        C|                20|                 5|                2|                 1|               1|\n",
            "|000e46ed2fa04e6ea...| 29|female|        B|                 0|                 2|                0|                 0|               1|\n",
            "|001016080277495ab...| 24|female|        C|                 1|                 1|                0|                 0|               0|\n",
            "|0010dd6ad7e44eb58...| 33|female|        B|                14|                 5|                2|                 0|               1|\n",
            "|001239b138514d69b...| 59|female|        C|                29|                17|                4|                 1|               1|\n",
            "|00132e22b56e43caa...| 62|  male|        C|                28|                 9|                5|                 1|               1|\n",
            "+--------------------+---+------+---------+------------------+------------------+-----------------+------------------+----------------+\n",
            "only showing top 20 rows\n",
            "\n"
          ]
        }
      ]
    },
    {
      "cell_type": "code",
      "metadata": {
        "id": "as0OCoEL1xXY"
      },
      "source": [
        "predictions = p_model.transform(test_df)"
      ],
      "execution_count": 36,
      "outputs": []
    },
    {
      "cell_type": "code",
      "metadata": {
        "id": "K407YP3G13d2",
        "colab": {
          "base_uri": "https://localhost:8080/"
        },
        "outputId": "0dfd96eb-3539-429c-c206-d3434d1783ee"
      },
      "source": [
        "predictions.show()"
      ],
      "execution_count": 37,
      "outputs": [
        {
          "output_type": "stream",
          "name": "stdout",
          "text": [
            "+--------------------+---+------+---------+------------------+------------------+-----------------+------------------+----------------+---------+---------------+--------------------+--------------------+--------------------+----------+\n",
            "|           driver_id|age|   sex|car_class|driving_experience|speeding_penalties|parking_penalties|total_car_accident|has_car_accident|sex_index|car_class_index|            features|       rawPrediction|         probability|prediction|\n",
            "+--------------------+---+------+---------+------------------+------------------+-----------------+------------------+----------------+---------+---------------+--------------------+--------------------+--------------------+----------+\n",
            "|00002225cb8a44ebb...| 31|  male|        S|                15|                 2|                0|                 0|               0|      1.0|            4.0|[31.0,1.0,4.0,15....|[1.15140076465038...|[0.90910879480527...|       0.0|\n",
            "|0000c3a3477346d09...| 23|female|        B|                 5|                15|                3|                 1|               0|      0.0|            0.0|[23.0,0.0,0.0,5.0...|[-1.1563539772915...|[0.09007594807889...|       1.0|\n",
            "|0002932e07054b12b...| 29|female|        C|                 6|                 6|                2|                 0|               0|      0.0|            1.0|[29.0,0.0,1.0,6.0...|[1.10503860207854...|[0.90115080422922...|       0.0|\n",
            "|0002e524012748159...| 29|female|        C|                 6|                15|                5|                 1|               1|      0.0|            1.0|[29.0,0.0,1.0,6.0...|[-1.1967397297400...|[0.08367127364100...|       1.0|\n",
            "|00032b6458bc42b3b...| 23|  male|        D|                 2|                 0|                0|                 1|               1|      1.0|            2.0|[23.0,1.0,2.0,2.0...|[-1.1217228235309...|[0.09591633133722...|       1.0|\n",
            "|0003fa73b9074d1ab...| 25|female|        D|                 6|                 0|                2|                 0|               0|      0.0|            2.0|[25.0,0.0,2.0,6.0...|[1.13256955496212...|[0.90594842786023...|       0.0|\n",
            "|00046f01fecb4fbf9...| 59|female|        C|                21|                15|                2|                 1|               0|      0.0|            1.0|[59.0,0.0,1.0,21....|[-1.1258325295010...|[0.09520593706969...|       1.0|\n",
            "|000505901f1d464ba...| 27|  male|        B|                 4|                 6|                2|                 0|               0|      1.0|            0.0|[27.0,1.0,0.0,4.0...|[1.16142123936419...|[0.91075125693387...|       0.0|\n",
            "|00053e7533ee4b559...| 20|female|        C|                 1|                 1|                0|                 0|               0|      0.0|            1.0|[20.0,0.0,1.0,1.0...|[1.16929265139529...|[0.91202263976840...|       0.0|\n",
            "|000606be92f642fe8...| 29|  male|        C|                 0|                 2|                0|                 0|               1|      1.0|            1.0|[29.0,1.0,1.0,0.0...|[1.10318730412081...|[0.90082049403864...|       0.0|\n",
            "|00078e1bb99d49619...| 18|female|        E|                 2|                 1|                0|                 1|               1|      0.0|            3.0|[18.0,0.0,3.0,2.0...|[-1.1056527319277...|[0.09873983870960...|       1.0|\n",
            "|00098cfe9cca436e8...| 56|  male|        B|                27|                 6|                7|                 1|               1|      1.0|            0.0|[56.0,1.0,0.0,27....|[-1.1170832005058...|[0.09672401673986...|       1.0|\n",
            "|000b617a21d040dd9...| 21|female|        C|                 0|                 9|                2|                 0|               1|      0.0|            1.0|[21.0,0.0,1.0,0.0...|[-1.0415315342856...|[0.11075393287288...|       1.0|\n",
            "|000da00e13784d059...| 23|  male|        B|                 0|                 1|                0|                 1|               1|      1.0|            0.0|[23.0,1.0,0.0,0.0...|[-1.1406491379776...|[0.09268371886804...|       1.0|\n",
            "|000e1908f932432cb...| 61|  male|        C|                20|                 5|                2|                 1|               1|      1.0|            1.0|[61.0,1.0,1.0,20....|[-0.9881187482339...|[0.12172049474348...|       1.0|\n",
            "|000e46ed2fa04e6ea...| 29|female|        B|                 0|                 2|                0|                 0|               1|      0.0|            0.0|(7,[0,4],[29.0,2.0])|[1.10468345673551...|[0.90108751490196...|       0.0|\n",
            "|001016080277495ab...| 24|female|        C|                 1|                 1|                0|                 0|               0|      0.0|            1.0|[24.0,0.0,1.0,1.0...|[1.19170144815186...|[0.91555290417846...|       0.0|\n",
            "|0010dd6ad7e44eb58...| 33|female|        B|                14|                 5|                2|                 0|               1|      0.0|            0.0|[33.0,0.0,0.0,14....|[1.21570705379369...|[0.91919163268214...|       0.0|\n",
            "|001239b138514d69b...| 59|female|        C|                29|                17|                4|                 1|               1|      0.0|            1.0|[59.0,0.0,1.0,29....|[-1.1948624759513...|[0.08395958352845...|       1.0|\n",
            "|00132e22b56e43caa...| 62|  male|        C|                28|                 9|                5|                 1|               1|      1.0|            1.0|[62.0,1.0,1.0,28....|[-1.0984257560031...|[0.10003358089045...|       1.0|\n",
            "+--------------------+---+------+---------+------------------+------------------+-----------------+------------------+----------------+---------+---------------+--------------------+--------------------+--------------------+----------+\n",
            "only showing top 20 rows\n",
            "\n"
          ]
        }
      ]
    },
    {
      "cell_type": "code",
      "metadata": {
        "id": "ZDxzkO70skME",
        "colab": {
          "base_uri": "https://localhost:8080/"
        },
        "outputId": "8050e2f0-d646-4438-c6ee-7d1f66b232e3"
      },
      "source": [
        "print(f'Model F1 = {evaluator.evaluate(predictions)}')"
      ],
      "execution_count": 38,
      "outputs": [
        {
          "output_type": "stream",
          "name": "stdout",
          "text": [
            "Model F1 = 0.9065764528064353\n"
          ]
        }
      ]
    },
    {
      "cell_type": "code",
      "metadata": {
        "id": "RYs-ODnbB029",
        "colab": {
          "base_uri": "https://localhost:8080/"
        },
        "outputId": "1e57ef7c-8cd8-4f82-b014-cf91c80310c9"
      },
      "source": [
        "type(p_model)"
      ],
      "execution_count": 39,
      "outputs": [
        {
          "output_type": "execute_result",
          "data": {
            "text/plain": [
              "pyspark.ml.pipeline.PipelineModel"
            ]
          },
          "metadata": {},
          "execution_count": 39
        }
      ]
    },
    {
      "cell_type": "code",
      "metadata": {
        "id": "pujGTHutpyL9"
      },
      "source": [
        "p_model.write().overwrite().save('catboost_pipeline')"
      ],
      "execution_count": 40,
      "outputs": []
    },
    {
      "cell_type": "markdown",
      "metadata": {
        "id": "Wj_erzuQni-z"
      },
      "source": [
        "### Catboost limitations\n",
        "<a href='https://catboost.ai/en/docs/concepts/spark-known-limitations'>List of limitations</a>"
      ]
    },
    {
      "cell_type": "code",
      "metadata": {
        "id": "V3jasYBlhHcI"
      },
      "source": [
        ""
      ],
      "execution_count": null,
      "outputs": []
    }
  ]
}